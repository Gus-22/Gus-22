{
  "cells": [
    {
      "cell_type": "markdown",
      "metadata": {
        "id": "view-in-github",
        "colab_type": "text"
      },
      "source": [
        "<a href=\"https://colab.research.google.com/github/Gus-22/Gus-22/blob/main/3_sistemas_triangulares.ipynb\" target=\"_parent\"><img src=\"https://colab.research.google.com/assets/colab-badge.svg\" alt=\"Open In Colab\"/></a>"
      ]
    },
    {
      "cell_type": "markdown",
      "metadata": {
        "id": "m4nZaCD7XPaI"
      },
      "source": [
        "# 3. Resolução de sistemas lineares <br><br>\n",
        "\n",
        "Na aula passada vimos:\n",
        "\n",
        "- como trabalhar com sistemas lineares a partir de matrizes e vetores, na forma $Ax=b$;\n",
        "- como interpretar geometricamente as equações e o conjunto solução do sistema;\n",
        "- como verificar se um vetor $x$ é solução de um sistema linear;\n",
        "- como verificar se um sistema $n\\times n$ tem solução única através da matriz inversa $A^{-1}$.\n",
        "\n",
        "<br>\n",
        "\n",
        "**Hoje veremos como de fato determinar o conjunto solução de sistemas lineares.**\n",
        "\n",
        "<br><br>\n",
        "\n",
        "***\n",
        "\n",
        "<br>\n",
        "\n",
        "# Utilizando diretamente NumPy <br>\n",
        "\n",
        "Sistemas lineares são uma classe importante de problemas e obviamente há muitas funções prontas nas bibliotecas em Python para resolvê-los diretamente.\n",
        "\n",
        "Uma delas é a função `solve`, do módulo `linalg` na biblioteca NumPy.\n",
        "\n",
        "<br>\n",
        "\n",
        "### Exemplo 1:<br>\n",
        "\n",
        "Vamos resolver o sistema linear\n",
        "\n",
        "$$\\begin{cases}\n",
        "    x_1 + 3x_2 -2x_3 = -22\\\\\n",
        "    2x_1 -x_2 + 3x_3 = -9\\\\\n",
        "    -2x_2 + 4x_3= -2\n",
        "\\end{cases}. $$\n",
        "\n",
        "Começamos definindo a sua matriz de coeficientes $A$ e o vetor de termos independentes $b$ como *arrays*."
      ]
    },
    {
      "cell_type": "code",
      "execution_count": null,
      "metadata": {
        "id": "sG93hB4BXPaK"
      },
      "outputs": [],
      "source": [
        "import numpy as np\n",
        "\n",
        "A = np.array([[1, 3, -2], [2, -1, 3], [0, -2, 4]])\n",
        "b = np.array([-22, -9, -2])"
      ]
    },
    {
      "cell_type": "markdown",
      "metadata": {
        "id": "3oxELITuXPaM"
      },
      "source": [
        "A seguir, basta aplicar a função, que requer $A$ e $b$ como entradas."
      ]
    },
    {
      "cell_type": "code",
      "execution_count": null,
      "metadata": {
        "id": "agK_MKHOXPaN",
        "colab": {
          "base_uri": "https://localhost:8080/"
        },
        "outputId": "abea10f2-b8f8-46f7-ecf6-ca8ce979b2ae"
      },
      "outputs": [
        {
          "output_type": "stream",
          "name": "stdout",
          "text": [
            "[ -1. -11.  -6.]\n"
          ]
        }
      ],
      "source": [
        "# função que calcula a resposta da matriz A com termos independentes b\n",
        "x = np.linalg.solve(A, b)\n",
        "\n",
        "print(x)"
      ]
    },
    {
      "cell_type": "markdown",
      "metadata": {
        "id": "K68WoKVcXPaO"
      },
      "source": [
        "Faça a prova real abaixo:"
      ]
    },
    {
      "cell_type": "code",
      "execution_count": null,
      "metadata": {
        "id": "a1fstClVXPaP",
        "colab": {
          "base_uri": "https://localhost:8080/"
        },
        "outputId": "2352a44e-d9e9-4997-8f7b-e0ac7ef8aa32"
      },
      "outputs": [
        {
          "output_type": "stream",
          "name": "stdout",
          "text": [
            "[-22.  -9.  -2.]\n"
          ]
        }
      ],
      "source": [
        "# a função resolve o problema, já que fazendo A * x = b\n",
        "real = np.dot(A, x)\n",
        "\n",
        "print(real)"
      ]
    },
    {
      "cell_type": "markdown",
      "metadata": {
        "id": "6KGr_yF0XPaQ"
      },
      "source": [
        "<br><br>\n",
        "\n",
        "Nesse caso, vimos que a solução é única. Fica a pergunta:\n",
        "\n",
        "> **E quando o sistema não tem solução? Ou possui infinitas soluções?**\n",
        "\n",
        "<br>\n",
        "\n",
        "***"
      ]
    },
    {
      "cell_type": "markdown",
      "metadata": {
        "id": "RyxfGT0MXPaR"
      },
      "source": [
        "## Exercício 1:<br>\n",
        "\n",
        "(a) Defina uma matriz $A$ e um vetor $b$ abaixo tais que o sistema $Ax=b$ não possua solução ou possua infinitas soluções, justificando por que isso acontece:\n",
        "\n",
        "$$\n",
        "A =\n",
        "\\begin{bmatrix}\n",
        "1 & 1 & 1 \\\\\n",
        "1 & 1 & 1 \\\\\n",
        "1 & 1 & 1\n",
        "\\end{bmatrix}\n",
        "$$\n",
        "\n",
        "$$\n",
        "b =\n",
        "\\begin{bmatrix}\n",
        "1 \\\\\n",
        "2 \\\\\n",
        "3\n",
        "\\end{bmatrix}\n",
        "$$\n",
        "\n",
        "**Justificativa:** não tem soluções, já que x + y + z = 1, portanto x + y + z não pode ser = 2 e = 3 também"
      ]
    },
    {
      "cell_type": "markdown",
      "metadata": {
        "id": "gjbsay3PXPaS"
      },
      "source": [
        "<br>\n",
        "\n",
        "(b) Utilize o comando `np.linalg.solve` para resolver o sistema acima e veja o que acontece."
      ]
    },
    {
      "cell_type": "code",
      "execution_count": null,
      "metadata": {
        "id": "9N9-stlkXPaT"
      },
      "outputs": [],
      "source": [
        "# O sistema não tem solução, portanto dará erro, já que o sistem não pode achar soluções que não existem\n",
        "\n",
        "A = np.array(([1, 1, 1],[1, 1, 1],[1, 1, 1]))\n",
        "b = np.array([1, 2, 3])\n",
        "\n",
        "respos = np.linalg.solve(A, b)\n",
        "print(respos)"
      ]
    },
    {
      "cell_type": "markdown",
      "metadata": {
        "id": "Te5OCbQyXPaT"
      },
      "source": [
        "<br>\n",
        "\n",
        "***\n",
        "<br>\n",
        "\n",
        "> Ou seja, exceto quando a solução é única, a função `np.linalg.solve` não é tão útil assim.\n",
        "<br>\n",
        "\n",
        "> Mas mesmo quando podemos usá-la, **qual a ideia por trás desse comando**? É isso que vamos tentar responder agora.\n",
        "\n",
        "<br>\n",
        "\n",
        "***"
      ]
    },
    {
      "cell_type": "markdown",
      "metadata": {
        "id": "7doEZumHXPaV"
      },
      "source": [
        "# Sistemas triangulares <br>\n",
        "\n",
        "Chamamos um sistema linear de **triangular** quando a sua matriz de coeficientes $A$ for uma **matriz triangular superior** ou **triangular inferior**, isto, tiver todos os elementos acima (ou abaixo) da diagonal principal iguais a zero.\n",
        "\n",
        "Sistemas desse tipo são simples pois **uma das variáveis já aparece explicitada** e com ela podemos determinar as outras.\n",
        "\n",
        "<br><br>\n",
        "\n",
        "## Exemplo 2: <br>\n",
        "\n",
        "Considere o sistema\n",
        "\n",
        "$$\n",
        "\\begin{cases}\n",
        "-3x_0 + &4x_1 -&x_2 = 4 \\\\\n",
        "&3x_1 + &2x_2 = -1 \\\\\n",
        "&&3x_2 = -15\n",
        "\\end{cases}.\n",
        "$$\n",
        "\n",
        "Note que a matriz de coeficientes é triangular superior,\n",
        "\n",
        "$$\n",
        "A = \\begin{bmatrix} A_{00} & A_{01} & A_{02} \\\\ A_{10} & A_{11} & A_{12} \\\\ A_{20} & A_{21} & A_{22} \\end{bmatrix}\n",
        "= \\begin{bmatrix} -3 & 4 & -1 \\\\ 0 & 3 & 2 \\\\ 0 & 0 & 3 \\end{bmatrix},\\quad\\quad\\quad\\quad b = \\begin{bmatrix} b_0 \\\\ b_1 \\\\ b_2 \\end{bmatrix} = \\begin{bmatrix} 4 \\\\ -1 \\\\ -15 \\end{bmatrix}.\n",
        "$$\n",
        "\n",
        "<br>\n",
        "\n",
        "Ora, utilizando a terceira equação, é simples obter o valor de $x_2$:\n",
        "\n",
        "$$\n",
        "3x_2 = -15 \\quad\\quad \\implies \\quad\\quad x_2= -5.\n",
        "$$\n",
        "\n",
        "<br>\n",
        "\n",
        "Assim, podemos determinar $x_1$ e posteriormente $x_0$:\n",
        "\n",
        "$$\n",
        "3x_1 + 2x_2 = -1 \\quad\\quad \\implies\\quad\\quad  x_1 = \\frac{-1-2x_2}{3} \\quad\\quad \\implies\\quad\\quad  x_1 = \\frac{-1-2\\cdot (-5)}{3} \\quad\\quad \\implies\\quad\\quad  x_1 = 3\n",
        "$$\n",
        "\n",
        "e\n",
        "\n",
        "$$\n",
        "-3x_0 + 4x_1 -x_2 = 4 \\quad\\quad \\implies \\quad\\quad x_0 = \\frac{4-4x_1 + x_2}{-3} \\quad\\quad \\implies \\quad\\quad x_0 = \\frac{4-4\\cdot 3 + (-5)}{-3} \\quad\\quad \\implies \\quad\\quad x_0 = \\frac{13}{3}.\n",
        "$$\n",
        "\n",
        "<br>\n",
        "\n",
        "Vamos implementar esses cálculos computacionalmente.\n",
        "\n",
        "Começamos definindo as matrizes."
      ]
    },
    {
      "cell_type": "code",
      "execution_count": null,
      "metadata": {
        "id": "O14QDDW7XPaV",
        "colab": {
          "base_uri": "https://localhost:8080/"
        },
        "outputId": "8b9af514-99c6-43ce-e339-095117e9440c"
      },
      "outputs": [
        {
          "output_type": "stream",
          "name": "stdout",
          "text": [
            "[[-3  4 -1]\n",
            " [ 0  3  2]\n",
            " [ 0  0  3]]\n",
            "\n",
            "[  4  -1 -15]\n",
            "\n",
            "[0. 0. 0.]\n"
          ]
        }
      ],
      "source": [
        "A = np.array([[-3, 4, -1],\n",
        "              [0, 3, 2],\n",
        "              [0, 0, 3]])\n",
        "b = np.array([4, -1, -15])\n",
        "\n",
        "# inicializando x com três entradas nulas, a serem atualizadas posteriormente\n",
        "x = np.zeros(3)\n",
        "\n",
        "print(A)\n",
        "print()\n",
        "print(b)\n",
        "print()\n",
        "print(x)"
      ]
    },
    {
      "cell_type": "markdown",
      "metadata": {
        "id": "2VoIiSniXPaW"
      },
      "source": [
        "<br> Começamos com a terceira equação, que é da forma\n",
        "\n",
        "$$\n",
        "A_{22}x_2 = b_2.\n",
        "$$\n",
        "\n",
        "Logo, isolamos $x_2$."
      ]
    },
    {
      "cell_type": "code",
      "execution_count": null,
      "metadata": {
        "id": "OgQ5TTl3XPaW",
        "colab": {
          "base_uri": "https://localhost:8080/"
        },
        "outputId": "6a0d0213-af8e-48a5-ba71-19554ea89dd4"
      },
      "outputs": [
        {
          "output_type": "stream",
          "name": "stdout",
          "text": [
            "[ 4.33333333  3.         -5.        ]\n"
          ]
        }
      ],
      "source": [
        "# defina x[2] em função de b[2] e A[2, 2]\n",
        "x[2] = b[2]/A[2,2]\n",
        "\n",
        "# assim, a terceira entrada de x é atualizada\n",
        "print(x)"
      ]
    },
    {
      "cell_type": "markdown",
      "metadata": {
        "id": "YSe7Y4AHXPaW"
      },
      "source": [
        "<br> Note que a segunda equação é dada por\n",
        "\n",
        "$$\n",
        "A_{11}x_1 + A_{12}x_2 = b_1.\n",
        "$$\n",
        "\n",
        "Então isolamos $x_1$ em termos dos coeficientes de $A$, de $b_1$ e de $x_2$:"
      ]
    },
    {
      "cell_type": "code",
      "execution_count": null,
      "metadata": {
        "id": "jNgKu-FOXPaW",
        "colab": {
          "base_uri": "https://localhost:8080/"
        },
        "outputId": "f4228bce-42e0-4cd0-91c4-6bc3c0593ae4"
      },
      "outputs": [
        {
          "output_type": "stream",
          "name": "stdout",
          "text": [
            "[ 4.33333333  3.         -5.        ]\n"
          ]
        }
      ],
      "source": [
        "# determine x[1] isolando-o na equação acima\n",
        "x[1] = (b[1]-2*x[2])/(A[1,1])\n",
        "\n",
        "print(x)"
      ]
    },
    {
      "cell_type": "markdown",
      "metadata": {
        "id": "xKOKw8XsXPaX"
      },
      "source": [
        "<br> A seguir, fazemos o mesmo com $x_0$, dado pela equação\n",
        "\n",
        "$$\n",
        "A_{00}x_0 + A_{01}x_1 + A_{02}x_2 = b_0.\n",
        "$$"
      ]
    },
    {
      "cell_type": "code",
      "execution_count": null,
      "metadata": {
        "id": "Dd6FpJ_FXPaX",
        "colab": {
          "base_uri": "https://localhost:8080/"
        },
        "outputId": "153f9dd1-e902-4590-8e89-9b09e9213757"
      },
      "outputs": [
        {
          "output_type": "stream",
          "name": "stdout",
          "text": [
            "[ 4.33333333  3.         -5.        ]\n"
          ]
        }
      ],
      "source": [
        "x[0] = (b[0] - 4*x[1] + x[2])/A[0,0]\n",
        "\n",
        "print(x)"
      ]
    },
    {
      "cell_type": "markdown",
      "metadata": {
        "id": "dAqYKyG9XPaY"
      },
      "source": [
        "<br> Confirmando que o vetor `x` definido é solução do sistema:"
      ]
    },
    {
      "cell_type": "code",
      "execution_count": null,
      "metadata": {
        "id": "Qin2arYtXPaY",
        "colab": {
          "base_uri": "https://localhost:8080/"
        },
        "outputId": "fe94faa4-2bf5-4b9a-ea29-6c29bbafd3fc"
      },
      "outputs": [
        {
          "output_type": "stream",
          "name": "stdout",
          "text": [
            "[False  True  True]\n"
          ]
        }
      ],
      "source": [
        "print(A.dot(x) == b)"
      ]
    },
    {
      "cell_type": "markdown",
      "metadata": {
        "id": "SQOt2PFPXPaY"
      },
      "source": [
        "<br><br>\n",
        "\n",
        "***\n",
        "\n",
        "## Exercício 2: <br>\n",
        "\n",
        "Generalize o raciocínio acima e defina computacionalmente uma função `solve_triang_3`, cujas entradas são as matrizes $A$ e $b$ que descrevem um sistema linear $3\\times 3$ triangular qualquer e que retorne a solução $x$.\n",
        "\n",
        "Teste a função com o sistema estudado acima."
      ]
    },
    {
      "cell_type": "code",
      "execution_count": null,
      "metadata": {
        "id": "GBOYJCM1XPaY",
        "colab": {
          "base_uri": "https://localhost:8080/"
        },
        "outputId": "319b857f-271a-45ee-9965-a96cd375e417"
      },
      "outputs": [
        {
          "output_type": "stream",
          "name": "stdout",
          "text": [
            "[ 4.33333333  3.         -5.        ]\n"
          ]
        }
      ],
      "source": [
        "A = np.array([[-3, 4, -1],\n",
        "              [0, 3, 2],\n",
        "              [0, 0, 3]])\n",
        "\n",
        "b = np.array([4, -1, -15])\n",
        "\n",
        "def solve_triang_3(A, b):\n",
        "  x[2] = b[2]/A[2,2]\n",
        "  x[1] = (b[1] - A[1, 2]*x[2])/(A[1, 1])\n",
        "  x[0] = (b[0] - A[0, 1]*x[1] + A[0, 2]*x[2])/(A[0, 0])\n",
        "  return x\n",
        "\n",
        "print(x)"
      ]
    },
    {
      "cell_type": "markdown",
      "metadata": {
        "id": "vVLT4xAJXPaZ"
      },
      "source": [
        "<br><br>\n",
        "\n",
        "***\n",
        "\n",
        "## Exercício 3: <br>\n",
        "\n",
        "(a) Generalize a função acima a uma função `solve_triang_4`, que resolve um sistema linear de dimensão $4\\times 4$ triangular qualquer."
      ]
    },
    {
      "cell_type": "code",
      "execution_count": null,
      "metadata": {
        "id": "nd2P2nWfXPaZ"
      },
      "outputs": [],
      "source": [
        "#z=x[3], y=x[2], x=x[1], v = x[0]\n",
        "\n",
        "from re import X\n",
        "def solve_triang_4(A, b):\n",
        "\n",
        "  x[3] = b[3]/A[3, 3]\n",
        "  x[2] = (b[2] - (A[2, 3])*x[3])/(A[2,2])\n",
        "  x[1] = (b[1] - (A[1, 2]*x[2]) - (A[1, 3]*x[3]))/(A[1, 1])\n",
        "  x[0] = (b[0] - (A[0, 1]*x[1]) - (A[0, 2]*x[2]) - (A[0, 3]*x[3]))/(A[0, 0])\n",
        "  return x\n"
      ]
    },
    {
      "cell_type": "markdown",
      "metadata": {
        "id": "_lrEcGHvXPaZ"
      },
      "source": [
        "<br>\n",
        "\n",
        "(b) Utilize a função acima para determinar a solução de  \n",
        "\n",
        "$$\n",
        "\\begin{cases}\n",
        "-2x_0 + 3x_1 -x_2 + x_3 = 2 \\\\\n",
        "-2x_1 + 4x_2 + 5x_3 = -3 \\\\\n",
        "x_2 + 4x_3 = 1 \\\\\n",
        "3x_3 = 2\n",
        "\\end{cases}.\n",
        "$$\n",
        "\n",
        "Faça a prova real multiplicando $Ax$ e iguale a $b$ para verificar o algoritmo."
      ]
    },
    {
      "cell_type": "code",
      "execution_count": null,
      "metadata": {
        "id": "TBOt2ixCXPaa",
        "colab": {
          "base_uri": "https://localhost:8080/"
        },
        "outputId": "31c1d17b-3eee-450f-dc97-82968a77f23a"
      },
      "outputs": [
        {
          "output_type": "stream",
          "name": "stdout",
          "text": [
            "[-0.08333333 -0.16666667 -1.66666667  0.66666667]\n"
          ]
        }
      ],
      "source": [
        "# resolva aqui\n",
        "\n",
        "A = np.array([[-2, 3, -1, 1],\n",
        "      [0, -2, 4, 5],\n",
        "      [0, 0, 1, 4],\n",
        "      [0, 0, 0, 3]])\n",
        "\n",
        "b = np.array([2, -3, 1, 2])\n",
        "\n",
        "def solve_triang_4(A, b):\n",
        "  x = np.zeros(4)\n",
        "  x[3] = b[3]/A[3, 3]\n",
        "  x[2] = (b[2] - A[2, 3]*x[3])/A[2,2]\n",
        "  x[1] = (b[1] - A[1, 2]*x[2] - A[1, 3]*x[3])/A[1, 1]\n",
        "  x[0] = (b[0] - A[0, 1]*x[1] - A[0, 2]*x[2] - A[0, 3]*x[3])/A[0, 0]\n",
        "  return x\n",
        "\n",
        "print(solve_triang_4(A, b))"
      ]
    },
    {
      "cell_type": "markdown",
      "metadata": {
        "id": "7LFV9GcYXPaa"
      },
      "source": [
        "<br><br>\n",
        "\n",
        "***\n",
        "\n",
        "# Resolvendo sistemas triangulares de dimensão arbitrária <br>\n",
        "\n",
        "Nosso próximo passo é resolver um sistema triangular de dimensão qualquer.\n",
        "\n",
        "Para isso, precisaremos generalizar as funções anteriores para lidar com sistemas com $n$ equações e $n$ incógnitas,\n",
        "\n",
        "$$\n",
        "\\begin{cases}\n",
        "A_{00}x_0\\ + &A_{01}x_1\\ + &A_{02}x_2\\ + &\\cdots\\ + &A_{0n}x_n = b_0\\\\\n",
        "&A_{11}x_1\\ + &A_{12}x_2\\ + &\\cdots\\ + &A_{1n}x_n = b_1\\\\\n",
        "&&A_{22}x_2\\ + &\\cdots\\ + &A_{2n}x_n = b_2\\\\\n",
        "&&\\ \\ \\ \\vdots&\\\\\n",
        "&&&&A_{nn}x_n = b_n\n",
        "\\end{cases}\n",
        "$$\n",
        "\n",
        "\n",
        "cuja matriz de coeficientes e matriz de termos independentes são do tipo\n",
        "\n",
        "$$A = \\begin{bmatrix}\n",
        "\t         A_{00} & A_{01} & A_{02} & \\cdots & A_{0n}\\\\\n",
        "\t         0      & A_{11} & A_{12} & \\cdots & A_{1n}\\\\\n",
        "\t         0      & 0      & A_{22} & \\cdots & A_{2n}\\\\\n",
        "\t         \\vdots & \\vdots & \\vdots & \\vdots & \\vdots\\\\\n",
        "\t         0      & 0      & 0      &  0     & A_{nn}\n",
        "\t         \\end{bmatrix}, \\quad\\quad\\quad b = \\begin{bmatrix} b_0 \\\\ b_1 \\\\ b_2 \\\\ \\vdots \\\\ b_n \\end{bmatrix}.$$\n",
        "             \n",
        "Para isso, usamos os seguintes passos:\n",
        "\n",
        "1. Determinamos o valor de $x_n$: $\\quad x_n = \\frac{b_n}{A_{n,n}}$\n",
        "\n",
        "2. Determinamos o valor de $x_{n-1}$: $\\quad x_{n-1} = \\frac{b_{n-1}\\ -\\ A_{n-1, n}x_n}{A_{n-1,n-1}}$\n",
        "\n",
        "3. Determinamos o valor de $x_{n-2}$: $\\quad x_{n-2} = \\frac{b_{n-2}\\ -\\ A_{n-2, n-1}x_{n-1}\\ -\\ A_{n-2, n}x_n}{A_{n-2,n-2}} = \\frac{b_{n-2}\\ -\\ \\sum_{i = {n-1}}^n A_{n-2, i}x_i}{A_{n-2,n-2}} $\n",
        "\n",
        "   $\\vdots$\n",
        "\n",
        "$\\ \\ $ n. Determinamos o valor de $x_0$: $\\quad x_0 = \\frac{b_0\\ -\\ \\sum_{i=1}^n A_{0, i}x_{i}}{A_{00}}$.\n",
        "\n",
        "<br><br>\n",
        "\n",
        "Note que o $k$-ésimo coeficiente, $x_k$, é dado por\n",
        "\n",
        "$$\n",
        "x_k = \\frac{b_{k}\\ -\\ \\sum_{i = k+1}^n A_{k, i}x_i}{A_{k,k}}.\n",
        "$$\n",
        "\n",
        "<br>\n",
        "\n",
        "O algoritmo acima pode ser implementado computacionalmente usando um laço `for` da seguinte maneira:"
      ]
    },
    {
      "cell_type": "code",
      "execution_count": null,
      "metadata": {
        "id": "6Yo_6gwdXPaa"
      },
      "outputs": [],
      "source": [
        "# comente cada linha do código abaixo, detalhando o que ela faz (se necessário,\n",
        "# use outra célula de código como rascunho e explore os comandos que você não\n",
        "# conhece)\n",
        "\n",
        "def solve_diag_n(A, b):\n",
        "    # comente\n",
        "    n = len(A)\n",
        "    # comente\n",
        "    x = np.zeros(n)\n",
        "    # comente\n",
        "    for k in range(n-1, -1, -1):\n",
        "        # comente\n",
        "        soma = 0\n",
        "        # comente\n",
        "        for i in range(k + 1, n):\n",
        "            soma = soma + complete_aqui\n",
        "        # comente\n",
        "        x[k] = complete_aqui\n",
        "    return x"
      ]
    },
    {
      "cell_type": "markdown",
      "metadata": {
        "id": "Toej7AmiXPab"
      },
      "source": [
        "<br><br>\n",
        "\n",
        "***\n",
        "\n",
        "## Exercício 4: <br>\n",
        "\n",
        "Defina uma matriz **triangular** $A$ $6\\times 6$ qualquer e um vetor $b\\in\\mathbb R^6$ e use a função acima para resolver o sistema $Ax = b$. Utilize a função `np.linalg.solve` para confirmar sua resposta."
      ]
    },
    {
      "cell_type": "code",
      "execution_count": null,
      "metadata": {
        "id": "hxLFPTaEXPab"
      },
      "outputs": [],
      "source": [
        "# resolva aqui"
      ]
    }
  ],
  "metadata": {
    "kernelspec": {
      "display_name": "Python 3",
      "language": "python",
      "name": "python3"
    },
    "language_info": {
      "codemirror_mode": {
        "name": "ipython",
        "version": 3
      },
      "file_extension": ".py",
      "mimetype": "text/x-python",
      "name": "python",
      "nbconvert_exporter": "python",
      "pygments_lexer": "ipython3",
      "version": "3.7.4"
    },
    "colab": {
      "provenance": [],
      "include_colab_link": true
    }
  },
  "nbformat": 4,
  "nbformat_minor": 0
}