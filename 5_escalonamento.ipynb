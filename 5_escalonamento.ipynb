{
  "cells": [
    {
      "cell_type": "markdown",
      "metadata": {
        "id": "view-in-github",
        "colab_type": "text"
      },
      "source": [
        "<a href=\"https://colab.research.google.com/github/Gus-22/Gus-22/blob/main/5_escalonamento.ipynb\" target=\"_parent\"><img src=\"https://colab.research.google.com/assets/colab-badge.svg\" alt=\"Open In Colab\"/></a>"
      ]
    },
    {
      "cell_type": "markdown",
      "metadata": {
        "id": "eKzXZtQ6XX1n"
      },
      "source": [
        "# <center><u>**Escalonamento** </u></center><br>\n",
        "\n",
        "Nas últimas aulas, vimos:\n",
        "- como resolver sistemas lineares **triangulares**;\n",
        "- como aplicar operações elementares em uma matriz.\n",
        "\n",
        "<br>\n",
        "\n",
        "Na aula de hoje iremos:\n",
        "- aplicar operações elementares para transformar **sistemas arbitrários** em **sistemas triangulares** (e resolvê-los);\n",
        "- determinar a **forma escalonada reduzida** de uma matriz.\n",
        "\n",
        "<br><br>\n",
        "\n",
        "***\n",
        "\n",
        "<br>\n"
      ]
    },
    {
      "cell_type": "code",
      "source": [
        "import numpy as np\n",
        "\n",
        "def troca_linhas(V, i, j):\n",
        "  # a linha abaixo cria uma matriz W com o mesmo formato de V\n",
        "  W = np.zeros(np.shape(V))\n",
        "  # n é o número de linhas da matriz\n",
        "  n = len(V)\n",
        "  # laço for que passa por cada linha de W\n",
        "  for k in range(n):\n",
        "    # se o indice k for igual a i, copiamos a linha j de V para a linha k de W\n",
        "    if k == i:\n",
        "      W[k] = V[j]\n",
        "    # se o indice k for igual a j, copiamos a linha i de V para a linha k de W\n",
        "    elif k == j:\n",
        "      W[k] = V[i]\n",
        "    # para todas as outras linhas, copiamos V direto para W\n",
        "    else:\n",
        "      W[k] = V[k]\n",
        "  return W\n",
        "\n",
        "def multiplica_linha(V, i, t):\n",
        "  # criando uma matriz W com o mesmo formato de V\n",
        "  W = np.zeros(np.shape(V))\n",
        "  # n é o número de linhas da matriz\n",
        "  n = len(V)\n",
        "  # laço for que passa por cada linha de W\n",
        "  for k in range(n):\n",
        "    # copia a linha i de V para a linha i de W multiplicada pela constante t\n",
        "    W[i] = V[i] * t\n",
        "    if k != i: # se k for diferente da linha i que vai ser substituida, é pra copiar igual\n",
        "      W[k] = V[k]\n",
        "  return W\n",
        "\n",
        "def substitui_linha(V, i, j, t):\n",
        "  # cria uma matriz W com o mesmo formato de V\n",
        "  W = np.zeros(np.shape(V))\n",
        "  # n é o número de linhas da matriz\n",
        "  n = len(V)\n",
        "  # laço for que passa por cada linha de W\n",
        "  for k in range(n):\n",
        "    # se k for igual a linha que queremos substituir, k é igual a k + outra linha vezes a constante\n",
        "    if k == i:\n",
        "      W[k] = V[k] + V[j] * t\n",
        "    else:  # se k não for a linha que queremos substituir, apenas copia igual\n",
        "      W[k] = V[k]\n",
        "  return W\n",
        "\n",
        "def solve_diag_n(A, b):\n",
        "  # n é o tamanho da matriz principal, ex = A(3 x 3)\n",
        "  n = len(A)\n",
        "  # cria um vetor x de zeros\n",
        "  x = np.zeros(n)\n",
        "  # laço for que começa a solução do sistema a partir da última linha até a primeira - ex: se A 3x3, então k começa de 2 e vai até - 1\n",
        "  for k in range(n-1, -1, -1):\n",
        "    # variável para calcular a soma dos produtos da linha atual\n",
        "    soma = 0\n",
        "    # percorre as colunas da matriz A a partir da diagonal principal\n",
        "    for i in range(k+1, n):\n",
        "      # soma o produto do elemento da matriz A com o elemento correspondente do vetor x\n",
        "      soma = soma + A[k][i] * x[i]\n",
        "    # calcula o valor de x[k] - variável na linha k do vetor x\n",
        "    x[k] = (b[k] - soma) / A[k, k]\n",
        "  #retorna o vetor x com a solução do sistema linear\n",
        "  return x"
      ],
      "metadata": {
        "id": "3UvoJDwc8w1k"
      },
      "execution_count": null,
      "outputs": []
    },
    {
      "cell_type": "markdown",
      "source": [
        "## **<u>Sistema $3\\times3$: caso particular</u>**\n",
        "<br>\n",
        "\n",
        "Vamos começar transformando o sistema $3\\times3$ abaixo em um sistema $3\\times3$ **triangular**:\n",
        "\n",
        "$$ \\begin{cases}\n",
        "\t         3x_0 +2x_1 + 3x_2 = 2\\\\\n",
        "\t         -6x_0 +2x_1 + x_2 = -1\\\\\n",
        "\t         x_0 -x_1 + x_2 = 3\\\\\n",
        "\\end{cases}\n",
        "\\quad\\quad \\rightsquigarrow\\quad\\quad\n",
        "\\begin{bmatrix}\n",
        "\t         3 & 2 & 3 \\\\\n",
        "\t         -6 & 2 & 1 \\\\\n",
        "\t         1 & -1 & 1\n",
        "\\end{bmatrix}\n",
        "\\begin{bmatrix}\n",
        "\t         x_0 \\\\\n",
        "\t         x_1 \\\\\n",
        "           x_2 \\\\\n",
        "\\end{bmatrix}\n",
        "=\n",
        "\\begin{bmatrix}\n",
        "\t         2 \\\\\n",
        "\t         -1 \\\\\n",
        "           3\n",
        "\\end{bmatrix}.\n",
        "$$\n",
        "<br>\n",
        "\n",
        "Triangularizamos o sistemas ao **zerarmos** as entradas $-6, 1$ e $-1$ do canto esquerdo inferior. Para isso, primeiro definimos a **matriz ampliada** do sistema e então usamos substituições de linha:\n",
        "\n",
        "\\begin{align}\n",
        "\\left[\\begin{array}{ccc|c}\n",
        "\t         3 & 2 & 3 & 2 \\\\\n",
        "\t         -6 & 2 & 1 & -1 \\\\\n",
        "\t         1 & -1 & 1 & 3\n",
        "\\end{array}\\right] &\\underrightarrow{\\tiny{L_1 \\rightarrow L_1 + 2L_0}}\n",
        "\\left[\\begin{array}{ccc|c}\n",
        "\t         3 & 2 & 3 & 2 \\\\\n",
        "\t         0 & 6 & 7 & 3 \\\\\n",
        "\t         1 & -1 & 1 & 3\n",
        "\\end{array}\\right]\\\\ &\\underrightarrow{\\tiny{L_2 \\rightarrow L_2 -\\frac13L_0}}\n",
        "\\left[\\begin{array}{ccc|c}\n",
        "\t         3 & 2 & 3 & 2 \\\\\n",
        "\t         0 & 6 & 7 & 3 \\\\\n",
        "\t         0 & -\\frac53 & 0 & \\frac73\n",
        "\\end{array}\\right]\\\\ &\\underrightarrow{\\tiny{L_2 \\rightarrow L_2 +\\frac5{18}L_1}}\n",
        "\\left[\\begin{array}{ccc|c}\n",
        "\t         3 & 2 & 3 & 2 \\\\\n",
        "\t         0 & 6 & 7 & 3 \\\\\n",
        "\t         0 & 0 & \\frac{35}{18} & \\frac73\n",
        "\\end{array}\\right]\n",
        "\\end{align}\n",
        "\n",
        "<br>\n",
        "\n",
        "Nesse ponto, obtemos um sistema triangular e podemos utilizar o código das aulas passadas para resolvê-lo.\n",
        "\n",
        "<br>\n",
        "\n",
        "***\n",
        "\n",
        "<br>\n",
        "\n",
        "## Exercício 1: <br>\n",
        "\n",
        "(a) Defina computacionalmente a **matriz ampliada** do sistemas inicial dado acima.\n"
      ],
      "metadata": {
        "id": "EdTn822fCjR0"
      }
    },
    {
      "cell_type": "code",
      "source": [
        "# definindo a matriz e os termos independentes\n",
        "M = np.array(([3, 2, 3], [-6, 2, 1], [1, -1, 1]))\n",
        "b = np.array([2, -1, 3])\n",
        "\n",
        "#np.column_stack concatena a matriz M e os termos independentes b e cria a matriz ampliada\n",
        "M = np.column_stack((M, b))\n",
        "print(M)"
      ],
      "metadata": {
        "id": "jucKqS_ng3jw",
        "colab": {
          "base_uri": "https://localhost:8080/"
        },
        "outputId": "b912e790-2d75-427d-82ad-414eb7229866"
      },
      "execution_count": null,
      "outputs": [
        {
          "output_type": "stream",
          "name": "stdout",
          "text": [
            "[[ 3  2  3  2]\n",
            " [-6  2  1 -1]\n",
            " [ 1 -1  1  3]]\n"
          ]
        }
      ]
    },
    {
      "cell_type": "markdown",
      "source": [
        "(b) Implemente computacionalmente as operações de substituição de linha aplicadas acima, de modo a obter um sistema triangular, utilizando a função `substitui_linha` da aula passada."
      ],
      "metadata": {
        "id": "rfYhOyWfg4uH"
      }
    },
    {
      "cell_type": "code",
      "source": [
        "#usando a função substitui_linha para obter uma matriz M3 triangular\n",
        "M1 = substitui_linha(M, 1, 0, 2)\n",
        "M2 = substitui_linha(M1, 2, 0, -1/3)\n",
        "M3 = substitui_linha(M2, 2, 1, 5/18)\n",
        "\n",
        "print(M)\n",
        "print()\n",
        "\n",
        "#np.round é uma função que arredonda os valores da matriz\n",
        "redonda = np.round(M3, 5)\n",
        "print(redonda)"
      ],
      "metadata": {
        "id": "a_f2D5Reg44W",
        "colab": {
          "base_uri": "https://localhost:8080/"
        },
        "outputId": "2418482a-fce5-4c5c-a337-3a8df6146b36"
      },
      "execution_count": null,
      "outputs": [
        {
          "output_type": "stream",
          "name": "stdout",
          "text": [
            "[[ 3  2  3  2]\n",
            " [-6  2  1 -1]\n",
            " [ 1 -1  1  3]]\n",
            "\n",
            "[[3.      2.      3.      2.     ]\n",
            " [0.      6.      7.      3.     ]\n",
            " [0.      0.      1.94444 3.16667]]\n"
          ]
        }
      ]
    },
    {
      "cell_type": "markdown",
      "source": [
        "<br>\n",
        "\n",
        "(c) Determine a solução do sistema triangular utilizando a função `solve_triang_n` das aulas passadas e mostre que ela é solução do sistema $Ax = b$ (não-triangular) inicial."
      ],
      "metadata": {
        "id": "FquduUaOg5GY"
      }
    },
    {
      "cell_type": "code",
      "source": [
        "#considera todas as linhas da matriz\n",
        "A = M3[:, :3]\n",
        "#define os termos independentes, pegando apenas a coluna 3\n",
        "b = M3[:, 3]\n",
        "\n",
        "#função que calcula a diagonal principal de uma matriz triangular\n",
        "x = solve_diag_n(A, b)\n",
        "print(x)"
      ],
      "metadata": {
        "id": "aJHfC5kQg5cP",
        "colab": {
          "base_uri": "https://localhost:8080/"
        },
        "outputId": "7a9ecc98-132b-4000-ac99-3f588460b212"
      },
      "execution_count": null,
      "outputs": [
        {
          "output_type": "stream",
          "name": "stdout",
          "text": [
            "[-0.02857143 -1.4         1.62857143]\n"
          ]
        }
      ]
    },
    {
      "cell_type": "markdown",
      "source": [
        "***\n",
        "\n",
        "> **Note que é essencial aplicar a triangularização na matriz <u>ampliada</u> do sistema, e não apenas na matriz $A$ de coeficientes.**\n",
        "\n",
        "***"
      ],
      "metadata": {
        "id": "z9Q8_K2PdM8b"
      }
    },
    {
      "cell_type": "markdown",
      "source": [
        "<br>\n",
        "\n",
        "## **<u>Sistema $3\\times3$: caso geral</u>**\n",
        "<br>\n",
        "\n",
        "Dado\n",
        "\n",
        "$$ \\begin{cases}\n",
        "\t         A_{00}x_0 +A_{01}x_1 + A_{02}x_2 = b_0\\\\\n",
        "\t         A_{10}x_0 +A_{10}x_1 + A_{12}x_2 = b_1\\\\\n",
        "\t         A_{20}x_0 +A_{20}x_1 + A_{22}x_2 = b_2\\\\\n",
        "\\end{cases}\n",
        "\\quad\\quad \\rightsquigarrow\\quad\\quad\n",
        "\\left[\\begin{array}{ccc|c}\n",
        "\t         A_{00} & A_{01} & A_{02} & b_0 \\\\\n",
        "\t         A_{10} & A_{11} & A_{12} & b_1\\\\\n",
        "\t         A_{20} & A_{21} & A_{22} & b_2\n",
        "\\end{array}\\right].\n",
        "$$\n",
        "<br>\n",
        "\n",
        "Para triangularizar o sistema, devemos **zerar** as entradas $A_{10}, A_{20}, A_{21}$.\n",
        "\n",
        "<br>\n",
        "\n",
        "Para isso, usamos as seguintes substituições de linha: (verifique!)\n",
        "- $L_1 \\rightarrow L_1 - \\frac{A_{10}}{A_{00}}L_0$;\n",
        "- $L_2 \\rightarrow L_2 - \\frac{A_{20}}{A_{00}}L_0$;\n",
        "- $L_2 \\rightarrow L_2 - \\frac{A_{21}}{A_{11}}L_1$.\n",
        "\n",
        "<br>\n",
        "\n",
        "Vamos implementar isso computacionalmente:\n"
      ],
      "metadata": {
        "id": "obUdvkdECjYw"
      }
    },
    {
      "cell_type": "markdown",
      "source": [],
      "metadata": {
        "id": "-te3c1z9aziW"
      }
    },
    {
      "cell_type": "code",
      "execution_count": null,
      "metadata": {
        "id": "xnzQ90cSXX1s",
        "colab": {
          "base_uri": "https://localhost:8080/"
        },
        "outputId": "9d2c7864-c5a6-41cf-ec1e-d5629a1ea1a8"
      },
      "outputs": [
        {
          "output_type": "stream",
          "name": "stdout",
          "text": [
            "[[3.         2.         3.         2.        ]\n",
            " [0.         6.         7.         3.        ]\n",
            " [0.         0.         1.94444444 3.16666667]]\n"
          ]
        }
      ],
      "source": [
        "def triangulariza_3(M):\n",
        "  '''\n",
        "  Tringulariza uma matriz M de três linhas através de substituições de linha.\n",
        "  '''\n",
        "  M1 = substitui_linha(M, 1, 0, -M[1][0]/M[0][0])\n",
        "  M2 = substitui_linha(M1, 2, 0, -M1[2][0]/M[0][0])\n",
        "  M3 = substitui_linha(M2, 2, 1, -M2[2][1]/M[1][1])\n",
        "  return M3\n",
        "\n",
        "# testando com a matriz M definida anteriormente\n",
        "M = np.array([[3, 2, 3, 2], [-6, 2, 1, -1], [1, -1, 1, 3]])\n",
        "\n",
        "print(triangulariza_3(M3))"
      ]
    },
    {
      "cell_type": "markdown",
      "source": [
        "<br>\n",
        "\n",
        "***\n",
        "\n",
        "<br>\n",
        "\n",
        "# **<u>Sistemas $n\\times n$: caso geral</u>**\n",
        "<br>\n",
        "\n",
        "Verifique que o código abaixo generaliza o anterior, comentando cada parte dele:"
      ],
      "metadata": {
        "id": "xbt0DDeXTWTZ"
      }
    },
    {
      "cell_type": "code",
      "execution_count": null,
      "metadata": {
        "id": "Lf5bZZWkXX1u",
        "colab": {
          "base_uri": "https://localhost:8080/"
        },
        "outputId": "de0be126-f6ae-495b-a712-4ab75426aa1a"
      },
      "outputs": [
        {
          "output_type": "execute_result",
          "data": {
            "text/plain": [
              "array([[3, 2, 3, 2],\n",
              "       [0, 6, 7, 3],\n",
              "       [0, 0, 1, 2]])"
            ]
          },
          "metadata": {},
          "execution_count": 6
        }
      ],
      "source": [
        "def triangulariza_n(M):\n",
        "  '''\n",
        "  Triangulariza uma matriz M de dimensão qualquer.\n",
        "  '''\n",
        "  # obtém o número de linhas da matriz\n",
        "  n = len(M)\n",
        "  # laço for que percorre as colunas da matriz\n",
        "  for j in range(n):\n",
        "    # laço for que percorre as linhas abaixo da diagonal principal\n",
        "    for i in range(j+1, n):\n",
        "      # calcula o fator de multiplicação t para eliminar o elemento M[i][j]\n",
        "      t = M[i, j] / M[j, j]\n",
        "      # atualiza a linha i da matriz M para eliminar o elemento M[i][j]\n",
        "      M[i] = M[i] - t * M[j]\n",
        "  #retorna a matriz triangular\n",
        "  return M\n",
        "\n",
        "# teste o código acima na matriz abaixo\n",
        "M = np.array([[3, 2, 3, 2], [-6, 2, 1, -1], [1, -1, 1, 3]])\n",
        "triangulariza_n(M)"
      ]
    },
    {
      "cell_type": "markdown",
      "source": [
        "<br>\n",
        "\n",
        "***\n",
        "\n",
        "<br>\n",
        "\n",
        "# **<u>Resolvendo sistemas arbitrários $n\\times n$</u>**\n",
        "<br>\n",
        "\n",
        "> Obtemos uma função que resolve sistemas não-triangulares ao combinar o código acima com A função `solve_diag_n` das aulas passadas."
      ],
      "metadata": {
        "id": "6NDmFyq2VtfK"
      }
    },
    {
      "cell_type": "code",
      "execution_count": null,
      "metadata": {
        "id": "21fytiHkXX1u",
        "colab": {
          "base_uri": "https://localhost:8080/"
        },
        "outputId": "d51cf4d2-5699-4690-99ca-4ccc5053a61b"
      },
      "outputs": [
        {
          "output_type": "stream",
          "name": "stdout",
          "text": [
            "[ 0.43492063 -1.96666667  1.54285714]\n"
          ]
        }
      ],
      "source": [
        "# definindo a matriz M e os termos independentes\n",
        "M = np.array(([3, 2, 3], [-6, 2, 1], [1, -1, 1]))\n",
        "b = np.array(([2], [-1], [3]))\n",
        "\n",
        "def solve_n(A, b):\n",
        "  '''\n",
        "  Resolve sistemas n x n, triangularizando-os primeiro.\n",
        "  '''\n",
        "  # np.hstack cria a matriz aumentada do sistema, juntando a matriz principal e os resultados\n",
        "  M = np.hstack((A, b))\n",
        "  # triangulariza_n está escalonando a matriz M\n",
        "  M = triangulariza_n(M)\n",
        "  # A passa a ser M menos a ultima coluna, ou seja, desfaz hstack\n",
        "  A = M[:, :-1]\n",
        "  # b passa a ser separado novamente, possibilitando o uso da função solve_triang_n\n",
        "  b = M[:, -1]\n",
        "  # solve_triang_n resolve a matriz\n",
        "  x = solve_diag_n(A, b)\n",
        "  return x\n",
        "\n",
        "#aplicando a função que acabamos de definir\n",
        "res = solve_n(A, b)\n",
        "print(res)"
      ]
    },
    {
      "cell_type": "markdown",
      "source": [
        "<br>\n",
        "\n",
        "- <u>**ATENÇÃO**</u>: O código acima possui um problema: o coeficiente $t$ que usamos na substituição de linha é do tipo $\\frac{M_{ji}}{M_{ii}}$. Essa divisão não está bem definida se em algum passo intermediário obtermos uma matriz com o termo diagonal $M_{ii}$ igual a **zero**.\n",
        "\n",
        "<br><br>\n",
        "\n",
        "> **Você consegue pensar em uma maneira de contornar esse problema?**"
      ],
      "metadata": {
        "id": "ITz24oL6XGxB"
      }
    },
    {
      "cell_type": "markdown",
      "source": [
        "Uma solução é fazer uma verificação antes da divisão.\n",
        "\n",
        "Se o elemento diagonal Mii for zero, você pode trocar a linha atual com uma linha abaixo que tenha um valor não zero na mesma coluna.\n",
        "\n",
        "Essa troca de linha é conhecida como \"pivoteamento\" e ajuda a evitar a divisão por zero."
      ],
      "metadata": {
        "id": "mWgyORlDKRrm"
      }
    },
    {
      "cell_type": "markdown",
      "source": [
        "<br>\n",
        "\n",
        "***\n",
        "\n",
        "<br>\n",
        "\n",
        "# **<u>Escalonando matrizes</u>**\n",
        "<br>\n",
        "\n",
        "A função definida abaixo pode ser utilizada para obter a forma escalonada reduzida matrizes. Baseando-se nos códigos anteriores, estude o código abaixo e comente-o."
      ],
      "metadata": {
        "id": "Rp1QRO_yZkxh"
      }
    },
    {
      "cell_type": "code",
      "execution_count": null,
      "metadata": {
        "id": "-kZ4U3aMXX16",
        "colab": {
          "base_uri": "https://localhost:8080/"
        },
        "outputId": "c04d2089-6b5d-4e21-a174-bb39c974be16"
      },
      "outputs": [
        {
          "output_type": "stream",
          "name": "stdout",
          "text": [
            "[[ 1  0  0 -1]\n",
            " [ 0  1  0 -3]\n",
            " [ 0  0  1  1]]\n"
          ]
        }
      ],
      "source": [
        "def escalona(M):\n",
        "  '''\n",
        "  Retorna a forma escalonada reduzida da matriz M.\n",
        "  '''\n",
        "  # obtém o número de linhas da matriz\n",
        "  n = len(M)\n",
        "  # laço for que percorre as linhas da matriz\n",
        "  for k in range(n):\n",
        "    # substitui a linha, fazendo com que o elemento M[k][k] seja igual a 1\n",
        "    M[k] = M[k] / M[k, k] # divide a linha k inteira pelo elemento da diagonal\n",
        "    # laço for que percorre as linhas da matriz\n",
        "    for i in range(n):\n",
        "      # verifica se a linha não é a mesma linha que acabamos de substituir\n",
        "      if i != k:\n",
        "        # atualiza as outras linhas, fazendo com que os elementos abaixo de M[i][k] sejam 0\n",
        "        M[i] = M[i] - M[i, k] * M[k]\n",
        "  #retorna a matriz escalonada reduzida\n",
        "  return M\n",
        "\n",
        "# testando\n",
        "M = np.array([[3, 2, 3, 2], [-6, 2, 1, -1], [1, -1, 1, 3]])\n",
        "print(escalona(M))"
      ]
    },
    {
      "cell_type": "markdown",
      "metadata": {
        "id": "QCu3lL56XX2G"
      },
      "source": [
        "<br>\n",
        "\n",
        "***\n",
        "\n",
        "<br>\n",
        "\n",
        "# Exercício 2:\n",
        "<br>\n",
        "\n",
        "Descreva, caso exista, a solução para os seguintes sistemas lineares utilizando os métodos estudados em aula.\n",
        "\n",
        "a) $\\begin{cases}\n",
        "\t         2x_0 + 3x_1 + x_2 +5x_3 = 11\\\\\n",
        "\t         x_0  + 3.5x_1 + x_2 +7.5x_3 = 13\\\\\n",
        "\t         1.4x_0 + 2.7x_1 + 5.5x_2 + 12x_3 = 21.6\\\\\n",
        "\t         -2x_0 + 1x_1 + 3x_2 +28x_3 = 30\n",
        "\t  \\end{cases}$"
      ]
    },
    {
      "cell_type": "code",
      "source": [
        "#definindo a matriz M aumentada, a matriz A principal e os termos independentes b\n",
        "M = np.array(([2, 3, 1, 5, 11],\n",
        "              [1, 3.5, 1, 7.5, 13],\n",
        "              [1.4, 2.7, 5.5, 12, 21.6],\n",
        "              [-2, 1, 3, 28, 30]))\n",
        "\n",
        "A = np.array(([2, 3, 1, 5],\n",
        "              [1, 3.5, 1, 7.5],\n",
        "              [1.4, 2.7, 5.5, 12],\n",
        "              [-2, 1, 3, 28]))\n",
        "\n",
        "b = np.array(([11], [13], [21.6], [30]))\n",
        "\n",
        "#escalona a matriz\n",
        "escalonando = escalona(M)\n",
        "print(escalonando)\n",
        "print()\n",
        "#resolve a matriz\n",
        "res = solve_n(A, b)\n",
        "print(res)"
      ],
      "metadata": {
        "id": "OtcNbKsPcFPB",
        "colab": {
          "base_uri": "https://localhost:8080/"
        },
        "outputId": "b54fc563-2ecb-4c0c-876a-4e7f43b47a25"
      },
      "execution_count": null,
      "outputs": [
        {
          "output_type": "stream",
          "name": "stdout",
          "text": [
            "[[1. 0. 0. 0. 1.]\n",
            " [0. 1. 0. 0. 1.]\n",
            " [0. 0. 1. 0. 1.]\n",
            " [0. 0. 0. 1. 1.]]\n",
            "\n",
            "[1. 1. 1. 1.]\n"
          ]
        }
      ]
    },
    {
      "cell_type": "markdown",
      "source": [
        "<br>\n",
        "\n",
        "b) $\\begin{cases}\n",
        "\t         6.1x_0 + 0.32x_1 + 1.3x_2 + 2.1x_3 + 0.11x_4 = 19.52\\\\\n",
        "\t         0.82x_0 + 8.81x_1 + 1.01x_2 + 3x_3 + 3.12x_4 = 15.83\\\\\n",
        "\t         0.5x_0 + 1.78x_1 + 15.2x_2 + 4.2x_3 +8.1x_4 = -22.14\\\\\n",
        "\t         0.2x_0 + 9.1x_1 + 4.68x_2 +4.3x_3 +20.1x_4  = -21.78\n",
        "\t  \\end{cases}$"
      ],
      "metadata": {
        "id": "Qx7-29k9cGgi"
      }
    },
    {
      "cell_type": "code",
      "source": [
        "#definindo a matriz M aumentada, a matriz A principal e os termos independentes b\n",
        "M = np.array(([6.1, 0.32, 1.3, 2.1, 0.11, 19.52],\n",
        "              [0.82, 8.81, 1.01, 3, 3.12, 15.83],\n",
        "              [0.5, 1.78, 15.2, 4.2, 8.1, -22.14],\n",
        "              [0.2, 9.1, 4.68, 4.3, 20.1, -21.78]))\n",
        "\n",
        "A = np.array(([6.1, 0.32, 1.3, 2.1, 0.11],\n",
        "              [0.82, 8.81, 1.01, 3, 3.12],\n",
        "              [0.5, 1.78, 15.2, 4.2, 8.1],\n",
        "              [0.2, 9.1, 4.68, 4.3, 20.1]))\n",
        "\n",
        "b = np.array(([19.52], [15.83], [-22.14], [-21.78]))\n",
        "\n",
        "#escalona a matriz e arredonda os valores\n",
        "escalonando = escalona(M)\n",
        "print(np.round(escalonando, 5))\n",
        "print()\n",
        "#resolve a matriz\n",
        "res = solve_n(A, b)\n",
        "print(res)"
      ],
      "metadata": {
        "id": "AYqur_oocL1q",
        "colab": {
          "base_uri": "https://localhost:8080/"
        },
        "outputId": "108b4b73-78ed-4a89-a70f-95eccd04557a"
      },
      "execution_count": null,
      "outputs": [
        {
          "output_type": "stream",
          "name": "stdout",
          "text": [
            "[[  1.        0.        0.        0.       -7.96114  18.92228]\n",
            " [  0.        1.        0.        0.       -7.78425  17.56849]\n",
            " [  0.        0.        1.        0.       -6.0628   11.1256 ]\n",
            " [  0.        0.        0.        1.       28.11692 -55.23384]]\n",
            "\n",
            "[ 18.92227507  17.56849184  11.12559822 -55.23384428]\n"
          ]
        }
      ]
    },
    {
      "cell_type": "markdown",
      "source": [
        "**Conclusão:** o sistema tem mais de uma solução pois a quantidade de variáveis é superior a dimensão da matriz\n",
        "*   mesmo depois de escalonar, há variáveis que ainda não foram eliminadas"
      ],
      "metadata": {
        "id": "Il-QFCQ6I3Hq"
      }
    },
    {
      "cell_type": "markdown",
      "metadata": {
        "id": "ou8YCgnXXX2H"
      },
      "source": [
        "<br>\n",
        "\n",
        "***\n",
        "\n",
        "<br>\n",
        "\n",
        "# Exercício 3:\n",
        "<br>\n",
        "\n",
        "Determine o polinômio de grau 3\n",
        "\n",
        "$$\n",
        "P(x) = a_0 + a_1x + a_2x^2 + a_3x^3\n",
        "$$\n",
        "\n",
        "que passa pelos pontos $(1,3)$, $(2,-2)$, $(3,-5)$ e $(4,0)$. Plote o gráfico mostrando o polinômio obtido e os pontos dados."
      ]
    },
    {
      "cell_type": "code",
      "source": [
        "import matplotlib.pyplot as plt\n",
        "import sympy as sp\n",
        "\n",
        "x = np.array([1, 2, 3, 4])\n",
        "b = np.array([[3, -2, -5, 0]]).T\n",
        "\n",
        "A = np.array([x**0, x, x**2, x**3]).T\n",
        "\n",
        "coeficientes = solve_n(A, b)\n",
        "\n",
        "funcao = lambda x: coeficientes[0] + coeficientes[1]*x + coeficientes[2]*x**2 + coeficientes[3]*x**3\n",
        "\n",
        "x_simbolo = sp.symbols(\"x\")\n",
        "sp.expand(funcao(x_simbolo))"
      ],
      "metadata": {
        "colab": {
          "base_uri": "https://localhost:8080/",
          "height": 38
        },
        "id": "R5aAM-pqamrT",
        "outputId": "64e8c7fe-4e1d-469e-a6c2-770795e4ff26"
      },
      "execution_count": null,
      "outputs": [
        {
          "output_type": "execute_result",
          "data": {
            "text/plain": [
              "1.0*x**3 - 5.0*x**2 + 3.0*x + 4.0"
            ],
            "text/latex": "$\\displaystyle 1.0 x^{3} - 5.0 x^{2} + 3.0 x + 4.0$"
          },
          "metadata": {},
          "execution_count": 11
        }
      ]
    },
    {
      "cell_type": "code",
      "source": [
        "X = np.linspace(1, 5)\n",
        "plt.plot(x, b, \"ro\", X, funcao(X))\n",
        "plt.grid()\n",
        "plt.xlabel('x')\n",
        "plt.ylabel('y')\n",
        "plt.show()"
      ],
      "metadata": {
        "colab": {
          "base_uri": "https://localhost:8080/",
          "height": 452
        },
        "id": "eqGMu6evhopC",
        "outputId": "d9590729-2ccf-4c0e-deed-9841297b2c76"
      },
      "execution_count": null,
      "outputs": [
        {
          "output_type": "display_data",
          "data": {
            "text/plain": [
              "<Figure size 640x480 with 1 Axes>"
            ],
            "image/png": "[encoded data removed]"
          },
          "metadata": {}
        }
      ]
    }
  ],
  "metadata": {
    "kernelspec": {
      "display_name": "Python 3",
      "language": "python",
      "name": "python3"
    },
    "language_info": {
      "codemirror_mode": {
        "name": "ipython",
        "version": 3
      },
      "file_extension": ".py",
      "mimetype": "text/x-python",
      "name": "python",
      "nbconvert_exporter": "python",
      "pygments_lexer": "ipython3",
      "version": "3.7.4"
    },
    "colab": {
      "provenance": [],
      "include_colab_link": true
    }
  },
  "nbformat": 4,
  "nbformat_minor": 0
}