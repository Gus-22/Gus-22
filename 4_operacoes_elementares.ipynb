{
  "nbformat": 4,
  "nbformat_minor": 0,
  "metadata": {
    "colab": {
      "provenance": [],
      "include_colab_link": true
    },
    "kernelspec": {
      "name": "python3",
      "display_name": "Python 3"
    },
    "language_info": {
      "name": "python"
    }
  },
  "cells": [
    {
      "cell_type": "markdown",
      "metadata": {
        "id": "view-in-github",
        "colab_type": "text"
      },
      "source": [
        "<a href=\"https://colab.research.google.com/github/Gus-22/Gus-22/blob/main/4_operacoes_elementares.ipynb\" target=\"_parent\"><img src=\"https://colab.research.google.com/assets/colab-badge.svg\" alt=\"Open In Colab\"/></a>"
      ]
    },
    {
      "cell_type": "markdown",
      "source": [
        "# <u><center>**Operações elementares**</center></u>\n",
        "\n",
        "<br>\n",
        "\n",
        "Na aula passada, vimos como resolver sistemas lineares **triangulares**.\n",
        "\n",
        "<br>\n",
        "\n",
        "A pergunta que fica é:\n",
        "\n",
        "> **Como lidar com sistemas $n\\times n$ não-triangulares?**\n",
        "\n",
        "<br>\n",
        "\n",
        "Uma possível resposta é **transformar o sistema de modo a obter um sistema triangular com o mesmo conjunto solução**.\n",
        "\n",
        "<br>\n",
        "\n",
        "Fica a pergunta:\n",
        "\n",
        "> **Quais operações simplificam um sistema linear, mas preservam o seu conjunto solução?**\n",
        "\n",
        "<br>\n",
        "\n",
        "Estudando o assunto, chegamos a três **operações elementares**. Vejamos cada uma.\n",
        "\n",
        "<br>\n",
        "\n",
        "***\n"
      ],
      "metadata": {
        "id": "-94hNXOcZRW1"
      }
    },
    {
      "cell_type": "markdown",
      "source": [
        "# <center>Trocar duas equações de lugar</center>\n",
        "\n",
        "<br>\n",
        "\n",
        "Claramente, a ordem com que as equações aparecem em um sistema não interfere na solução do sistema em si. Ou seja, o sistema\n",
        "\n",
        "$$\n",
        "\\begin{cases}\n",
        "-2x_0 + 3x_1 -x_2 + x_3 = 2 \\\\\n",
        "3x_0-2x_1 + 4x_2 + 5x_3 = -3 \\\\\n",
        "7x_0 - 4x_1 + x_2 + 4x_3 = 1 \\\\\n",
        "x_0 - 4x_2 +3x_3 = 2\n",
        "\\end{cases}\n",
        "$$\n",
        "\n",
        "possui a mesma solução do sistema abaixo, obtido simplesmente trocando a segunda e a quarta equações de lugar,\n",
        "\n",
        "$$\n",
        "\\begin{cases}\n",
        "-2x_0 + 3x_1 -x_2 + x_3 = 2 \\\\\n",
        "x_0 - 4x_2 +3x_3 = 2 \\\\\n",
        "7x_0 - 4x_1 + x_2 + 4x_3 = 1 \\\\\n",
        "3x_0-2x_1 + 4x_2 + 5x_3 = -3\n",
        "\\end{cases}.\n",
        "$$\n",
        "\n",
        "<br>\n",
        "\n",
        "## Exercício 1:\n",
        "\n",
        "Verifique computacionalmente a afirmação acima, construindo as matrizes correspondentes a cada um dos sistema e resolvendo-os com a função `np.linalg.solve`."
      ],
      "metadata": {
        "id": "a-4o6L8ibjHM"
      }
    },
    {
      "cell_type": "code",
      "execution_count": null,
      "metadata": {
        "id": "uchLGnqsZNVo"
      },
      "outputs": [],
      "source": [
        "import numpy as np\n",
        "\n",
        "A1 = np.array([[-2, 3, -1, 1], [3, -2, 4, 5], [7, -4, 1, 4], [1, 0, -4, 3]])\n",
        "A2 = np.array([[-2, 3, -1, 1], [1, 0, -4, 3], [7, -4, 1, 4], [3, -2, 4, 5]])\n",
        "b1 = np.array([2, -3, 1, 2])\n",
        "b2 = np.array([2, 2, 1, -3])"
      ]
    },
    {
      "cell_type": "code",
      "source": [
        "# função que calcula a resposta da matriz A1 com termos independentes b1\n",
        "res = np.linalg.solve(A1, b1)\n",
        "\n",
        "print(res)"
      ],
      "metadata": {
        "colab": {
          "base_uri": "https://localhost:8080/"
        },
        "id": "y9bP3H8jFpZ6",
        "outputId": "f07e9ce5-2dbe-4444-e3b6-8a186724217d"
      },
      "execution_count": null,
      "outputs": [
        {
          "output_type": "stream",
          "name": "stdout",
          "text": [
            "[ 1.29924242  1.50757576 -0.47348485 -0.39772727]\n"
          ]
        }
      ]
    },
    {
      "cell_type": "code",
      "source": [
        "# função que calcula a resposta da matriz A2 com termos independentes b2\n",
        "res = np.linalg.solve(A2, b2)\n",
        "\n",
        "print(res)"
      ],
      "metadata": {
        "colab": {
          "base_uri": "https://localhost:8080/"
        },
        "id": "zXbs0RFlGExk",
        "outputId": "c40f67d3-6927-4daa-f9d3-7cdb03ec82bb"
      },
      "execution_count": null,
      "outputs": [
        {
          "output_type": "stream",
          "name": "stdout",
          "text": [
            "[ 1.29924242  1.50757576 -0.47348485 -0.39772727]\n"
          ]
        }
      ]
    },
    {
      "cell_type": "markdown",
      "source": [
        "**Conclusão:** comprovado que inverter a ordem das linhas da matriz não altera o conjunto solução."
      ],
      "metadata": {
        "id": "V2hNBJdh2IMt"
      }
    },
    {
      "cell_type": "markdown",
      "source": [
        "<br>\n",
        "\n",
        "## Exercício 2:\n",
        "\n",
        "(a) Defina abaixo uma função `troca_linhas`, que recebe como entrada um *array* V qualquer e os índices de duas linhas, $i$ e $j$, e devolva outro *array* $W$, obtido de $V$ ao trocar de lugar a linha $i$ pela linha $j$."
      ],
      "metadata": {
        "id": "3_FP6-n8ZRlk"
      }
    },
    {
      "cell_type": "code",
      "source": [
        "def troca_linhas(V, i, j):\n",
        "  # a linha abaixo cria uma matriz W com o mesmo formato de V\n",
        "  W = np.zeros(np.shape(V))\n",
        "  # n é o número de linhas da matriz\n",
        "  n = len(V)\n",
        "  # laço for que passa por cada linha de W\n",
        "  for k in range(n):\n",
        "    # se o indice k for igual a i, copiamos a linha j de V para a linha k de W\n",
        "    if k == i:\n",
        "      W[k] = V[j]\n",
        "    # se o indice k for igual a j, copiamos a linha i de V para a linha k de W\n",
        "    elif k == j:\n",
        "      W[k] = V[i]\n",
        "    # para todas as outras linhas, copiamos V direto para W\n",
        "    else:\n",
        "      W[k] = V[k]\n",
        "  return W"
      ],
      "metadata": {
        "id": "TLiOqmTnetad"
      },
      "execution_count": null,
      "outputs": []
    },
    {
      "cell_type": "markdown",
      "source": [
        "<br>\n",
        "\n",
        "(b) Teste a função definida acima com os *arrays* definidos no Exercício 1. Isto é, usa a função para trocar as linhas da *array* inicial e compare com a *array* definida manualmente com as linhas trocadas."
      ],
      "metadata": {
        "id": "WmSz_XaThU3V"
      }
    },
    {
      "cell_type": "code",
      "source": [
        "# a função troca a linha 1 e 3 da matriz V\n",
        "V = np.array([[-2, 3, -1, 1], [3, -2, 4, 5], [7, -4, 1, 4], [1, 0, -4, 3]])\n",
        "\n",
        "print(troca_linhas(V, 1, 3))"
      ],
      "metadata": {
        "id": "-OF3GUU2fU2d",
        "colab": {
          "base_uri": "https://localhost:8080/"
        },
        "outputId": "23fc6e7b-3f10-43e9-b4b6-3374437eb847"
      },
      "execution_count": null,
      "outputs": [
        {
          "output_type": "stream",
          "name": "stdout",
          "text": [
            "[[-2.  3. -1.  1.]\n",
            " [ 1.  0. -4.  3.]\n",
            " [ 7. -4.  1.  4.]\n",
            " [ 3. -2.  4.  5.]]\n"
          ]
        }
      ]
    },
    {
      "cell_type": "markdown",
      "source": [
        "<br><br>\n",
        "\n",
        "***\n",
        "\n",
        "<br>\n",
        "\n",
        "# <center>Multiplicar uma equação por uma constante diferente de zero</center>\n",
        "<br>\n",
        "\n",
        "Analogamente, ao multiplicarmos ambos os lados de uma equação por uma constante não-nula obtemos outra equação equivalente à primeira.\n",
        "\n",
        "Assim, o sistema\n",
        "\n",
        "$$\n",
        "\\begin{cases}\n",
        "-2x_0 + 3x_1 -x_2 + x_3 = 2 \\\\\n",
        "3x_0-2x_1 + 4x_2 + 5x_3 = -3 \\\\\n",
        "7x_0 - 4x_1 + x_2 + 4x_3 = 1 \\\\\n",
        "x_0 - 4x_2 +3x_3 = 2\n",
        "\\end{cases}\n",
        "$$\n",
        "\n",
        "possui a mesma solução do sistema abaixo, obtido simplesmente multiplicando a terceira equação por -3,\n",
        "\n",
        "$$\n",
        "\\begin{cases}\n",
        "-2x_0 + 3x_1 -x_2 + x_3 = 2 \\\\\n",
        "3x_0-2x_1 + 4x_2 + 5x_3 = -3 \\\\\n",
        "-21x_0 +12x_1 -3x_2 -12x_3 = -3 \\\\\n",
        "x_0 - 4x_2 +3x_3 = 2\n",
        "\\end{cases}.\n",
        "$$\n",
        "\n",
        "<br>\n",
        "\n",
        "## Exercício 3:\n",
        "\n",
        "Verifique a afirmação acima definindo as matrizes de cada sistema como *arrays* e resolvendo cada sistema com o comando `np.linalg.solve`."
      ],
      "metadata": {
        "id": "KlwAveiDh89O"
      }
    },
    {
      "cell_type": "code",
      "source": [
        "#definindo a matriz A1 e os coeficientes b1\n",
        "A1 = np.array([[-2, 3, -1, 1], [3, -2, 4, 5], [7, -4, 1, 4], [1, 0, -4, 3]])\n",
        "b1 = np.array([2, -3, 1, 2])\n",
        "\n",
        "#usando linalg para achar a solução\n",
        "resp = np.linalg.solve(A1, b1)\n",
        "print(resp)"
      ],
      "metadata": {
        "id": "5WGQPE-mjUo-",
        "colab": {
          "base_uri": "https://localhost:8080/"
        },
        "outputId": "7d8b598f-ce2c-4461-b470-4046133b6092"
      },
      "execution_count": null,
      "outputs": [
        {
          "output_type": "stream",
          "name": "stdout",
          "text": [
            "[ 1.29924242  1.50757576 -0.47348485 -0.39772727]\n"
          ]
        }
      ]
    },
    {
      "cell_type": "code",
      "source": [
        "#definindo a mesma matriz com a linha 2 multiplicada por -3\n",
        "A2 = np.array([[-2, 3, -1, 1], [3, -2, 4, 5], [-21, 12, -3, -12], [1, 0, -4, 3]])\n",
        "b2 = np.array([2, -3, -3, 2])\n",
        "\n",
        "#usando linalg para ver que a solução será a mesma\n",
        "resp = np.linalg.solve(A2, b2)\n",
        "print(resp)"
      ],
      "metadata": {
        "colab": {
          "base_uri": "https://localhost:8080/"
        },
        "id": "ihQ0F0AOUZ4I",
        "outputId": "7b825f6f-5d20-43b6-c0dd-98eee1bf8e9b"
      },
      "execution_count": null,
      "outputs": [
        {
          "output_type": "stream",
          "name": "stdout",
          "text": [
            "[ 1.29924242  1.50757576 -0.47348485 -0.39772727]\n"
          ]
        }
      ]
    },
    {
      "cell_type": "markdown",
      "source": [
        "<br>\n",
        "\n",
        "## Exercício 4:\n",
        "\n",
        "(a) Defina abaixo uma função `multiplica_linha`, que recebe como entrada um *array* V qualquer, o índice de uma linha, $i$, e uma constante não-nula, $t$, e devolva outro *array* $W$, obtido de $V$ ao multiplicar a $i$-ésima linha por $t$."
      ],
      "metadata": {
        "id": "iyuT59l_kbQO"
      }
    },
    {
      "cell_type": "code",
      "source": [
        "def multiplica_linha(V, i, t):\n",
        "  #criando uma matriz W com o mesmo formato de V\n",
        "  W = np.zeros(np.shape(V))\n",
        "  #n é o número de linhas da matriz\n",
        "  n = len(V)\n",
        "  # laço for que passa por cada linha de W\n",
        "  for k in range(n):\n",
        "    #copia a linha i de V para a linha i de W multiplicada pela constante t\n",
        "    W[i] = V[i] * t\n",
        "    if k != i: #se k for diferente da linha i que vai ser substituida, é pra copiar igual\n",
        "      W[k] = V[k]\n",
        "  return W"
      ],
      "metadata": {
        "id": "jmRz-OOTj-ad"
      },
      "execution_count": null,
      "outputs": []
    },
    {
      "cell_type": "markdown",
      "source": [
        "<br>\n",
        "\n",
        "(b) Teste a função definida acima com os *arrays* definidos no Exercício 3. Isto é, usa a função para multiplicar a linha da *array* inicial e compare com a *array* definida manualmente com a linha multiplicada."
      ],
      "metadata": {
        "id": "lGC3ztFolCtt"
      }
    },
    {
      "cell_type": "code",
      "source": [
        "#definindo a matriz\n",
        "A1 = np.array([[-2, 3, -1, 1], [3, -2, 4, 5], [7, -4, 1, 4], [1, 0, -4, 3]])\n",
        "\n",
        "#checando que a função faz a mesma operação de multiplicar a linha dois por -3\n",
        "res = multiplica_linha(A1, 2, -3)\n",
        "print(res)"
      ],
      "metadata": {
        "id": "flxMLb5wlOWt",
        "colab": {
          "base_uri": "https://localhost:8080/"
        },
        "outputId": "4956ee50-4b76-4d29-8222-b74533adbe82"
      },
      "execution_count": null,
      "outputs": [
        {
          "output_type": "stream",
          "name": "stdout",
          "text": [
            "[[ -2.   3.  -1.   1.]\n",
            " [  3.  -2.   4.   5.]\n",
            " [-21.  12.  -3. -12.]\n",
            " [  1.   0.  -4.   3.]]\n"
          ]
        }
      ]
    },
    {
      "cell_type": "markdown",
      "source": [
        "<br><br>\n",
        "\n",
        "***\n",
        "\n",
        "<br>\n",
        "\n",
        "# <center>Substituir uma equação por uma ela mesma mais um múltiplo de outra equação</center>\n",
        "<br>\n",
        "\n",
        "A terceira operação elementar consiste em substituir uma equação do sistemas por ela somada a uma múltipla de outra equação.\n",
        "\n",
        "Por exemplo, no sistema\n",
        "\n",
        "$$\n",
        "\\begin{cases}\n",
        "-2x_0 + 3x_1 -x_2 + x_3 = 2 \\\\\n",
        "3x_0 -2x_1 + 4x_2 + 5x_3 = -3 \\\\\n",
        "7x_0 - 4x_1 + x_2 + 4x_3 = 1 \\\\\n",
        "x_0 - 4x_2 +3x_3 = 2\n",
        "\\end{cases}\n",
        "$$\n",
        "\n",
        "podemos substituir a primeira linha $L_0$ por $L_0 +2L_3$, obtendo os sistema\n",
        "\n",
        "$$\n",
        "\\begin{cases}\n",
        "3x_1 -9x_2 + 7x_3 = 6 \\\\\n",
        "3x_0 -2x_1 + 4x_2 + 5x_3 = -3 \\\\\n",
        "7x_0 - 4x_1 + x_2 + 4x_3 = 1 \\\\\n",
        "x_0 - 4x_2 +3x_3 = 2\n",
        "\\end{cases},\n",
        "$$\n",
        "que possui a mesma solução do primeiro.\n",
        "\n",
        "<br>\n",
        "\n",
        "## Exercício 5:\n",
        "\n",
        "Verifique a afirmação acima definindo as matrizes de cada sistema como *arrays* e resolvendo cada sistema com o comando `np.linalg.solve`."
      ],
      "metadata": {
        "id": "S5dRdFsrmMM_"
      }
    },
    {
      "cell_type": "code",
      "source": [
        "#definindo as matrizes e os termos independentes\n",
        "A1 = np.array([[-2, 3, -1, 1], [3, -2, 4, 5], [7, -4, 1, 4], [1, 0, -4, 3]])\n",
        "b1 = np.array([2, -3, 1, 2])\n",
        "\n",
        "A2 = np.array([[0, 3, -9, 7], [3, -2, 4, 5], [7, -4, 1, 4], [1, 0, -4, 3]])\n",
        "b2 = np.array([6, -3, 1, 2])\n",
        "\n",
        "#usando linalg para achar a solução das matrizes\n",
        "resp1 = np.linalg.solve(A1, b1)\n",
        "resp2 = np.linalg.solve(A2, b2)\n",
        "\n",
        "#verificando que a solução é a mesma com a substituição de linhas L0 = L0 + 2L3\n",
        "print(\"Solução do sistema original:\")\n",
        "print(resp1)\n",
        "\n",
        "print(\"\\nSolução do sistema modificado:\")\n",
        "print(resp2)"
      ],
      "metadata": {
        "id": "nSu8f23wnS1n",
        "colab": {
          "base_uri": "https://localhost:8080/"
        },
        "outputId": "12a91cb5-e184-450a-80e5-5d0776acb914"
      },
      "execution_count": null,
      "outputs": [
        {
          "output_type": "stream",
          "name": "stdout",
          "text": [
            "Solução do sistema original:\n",
            "[ 1.29924242  1.50757576 -0.47348485 -0.39772727]\n",
            "\n",
            "Solução do sistema modificado:\n",
            "[ 1.29924242  1.50757576 -0.47348485 -0.39772727]\n"
          ]
        }
      ]
    },
    {
      "cell_type": "markdown",
      "source": [
        "<br>\n",
        "\n",
        "## Exercício 6:\n",
        "\n",
        "(a) Defina abaixo uma função `substitui_linha` que efetua a operação acima de maneira genérica."
      ],
      "metadata": {
        "id": "MphTqPbnoypO"
      }
    },
    {
      "cell_type": "code",
      "source": [
        "def substitui_linha(V, i, j, t):\n",
        "  # cria uma matriz W com o mesmo formato de V\n",
        "  W = np.zeros(np.shape(V))\n",
        "  # n é o número de linhas da matriz\n",
        "  n = len(V)\n",
        "  # laço for que passa por cada linha de W\n",
        "  for k in range(n):\n",
        "    # se k for igual a linha que queremos substituir, k é igual a k + outra linha vezes a constante\n",
        "    if k == i:\n",
        "      W[k] = V[k] + V[j] * t\n",
        "    else:  # se k não for a linha que queremos substituir, apenas copia igual\n",
        "      W[k] = V[k]\n",
        "  return W"
      ],
      "metadata": {
        "id": "jtvG4paIn-Qe"
      },
      "execution_count": null,
      "outputs": []
    },
    {
      "cell_type": "markdown",
      "source": [
        "<br>\n",
        "\n",
        "(b) Teste a função definida acima com os *arrays* definidos no Exercício 5. Isto é, usa a função para substituir a linha da *array* inicial e compare com a *array* definida manualmente com a linha substituída."
      ],
      "metadata": {
        "id": "rUfm9w6_r8u-"
      }
    },
    {
      "cell_type": "code",
      "source": [
        "#definindo a matriz inicial\n",
        "A1 = np.array([[-2, 3, -1, 1], [3, -2, 4, 5], [7, -4, 1, 4], [1, 0, -4, 3]])\n",
        "b1 = np.array([2, -3, 1, 2])\n",
        "\n",
        "#fazendo L0 = L0 + 2L3\n",
        "res = substitui_linha(A1, 0, 3, 2)\n",
        "print(res)"
      ],
      "metadata": {
        "id": "BY7YehyZryfu",
        "colab": {
          "base_uri": "https://localhost:8080/"
        },
        "outputId": "3b662c6a-f50c-4c83-ad96-09f9d75e6e4f"
      },
      "execution_count": null,
      "outputs": [
        {
          "output_type": "stream",
          "name": "stdout",
          "text": [
            "[[ 0.  3. -9.  7.]\n",
            " [ 3. -2.  4.  5.]\n",
            " [ 7. -4.  1.  4.]\n",
            " [ 1.  0. -4.  3.]]\n"
          ]
        }
      ]
    },
    {
      "cell_type": "markdown",
      "source": [
        "**Conclusão:** observamos que a resposta utilizando a função substitui_linha foi igual a resposta fazendo o método manualmente."
      ],
      "metadata": {
        "id": "E_ReuZB17xcP"
      }
    }
  ]
}